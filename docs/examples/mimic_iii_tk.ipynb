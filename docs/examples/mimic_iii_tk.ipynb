{
 "cells": [
  {
   "cell_type": "markdown",
   "id": "ef239679",
   "metadata": {},
   "source": [
    "#### Install physioprep"
   ]
  },
  {
   "cell_type": "code",
   "execution_count": null,
   "id": "b53de490",
   "metadata": {},
   "outputs": [],
   "source": [
    "!pip install physioprep"
   ]
  },
  {
   "cell_type": "markdown",
   "id": "d8474a66",
   "metadata": {},
   "source": [
    "#### Import physioprep and create an instance of M3WaveFormMasterClass"
   ]
  },
  {
   "cell_type": "code",
   "execution_count": null,
   "id": "ea51a310",
   "metadata": {},
   "outputs": [],
   "source": [
    "import physioprep\n",
    "import matplotlib.pyplot as plt\n",
    "physioprep.__version__\n",
    "module = physioprep.M3WaveFormMasterClass()"
   ]
  },
  {
   "cell_type": "markdown",
   "id": "a69660bf",
   "metadata": {},
   "source": [
    "#### 1. get_patients"
   ]
  },
  {
   "cell_type": "code",
   "execution_count": null,
   "id": "8e42b5b1",
   "metadata": {},
   "outputs": [],
   "source": [
    "patients_list = module.get_patients(load_preset = True)\n",
    "print(patients_list[:5])"
   ]
  },
  {
   "cell_type": "markdown",
   "id": "efd7fc23",
   "metadata": {},
   "source": [
    "#### 2. get_patient_group_id"
   ]
  },
  {
   "cell_type": "code",
   "execution_count": null,
   "id": "65733ec1",
   "metadata": {},
   "outputs": [],
   "source": [
    "group, pid = module.get_patient_group_id(patient_group_id = \"p00/p000020/\")\n",
    "print(group, pid)"
   ]
  },
  {
   "cell_type": "markdown",
   "id": "bfb307a4",
   "metadata": {},
   "source": [
    "#### 3. get_available_signals"
   ]
  },
  {
   "cell_type": "code",
   "execution_count": null,
   "id": "979732e4",
   "metadata": {},
   "outputs": [],
   "source": [
    "available_signals = module.get_available_signals()\n",
    "print(available_signals[:10])"
   ]
  },
  {
   "cell_type": "markdown",
   "id": "c85e438f",
   "metadata": {},
   "source": [
    "#### 4. get_patient_with_signal"
   ]
  },
  {
   "cell_type": "code",
   "execution_count": null,
   "id": "e2cae464",
   "metadata": {},
   "outputs": [],
   "source": [
    "df = module.get_patient_with_signal(signal_filter = ['II', 'PLETH', 'ABP'])\n",
    "df.head(3)"
   ]
  },
  {
   "cell_type": "markdown",
   "id": "62b3a72a",
   "metadata": {},
   "source": [
    "#### 5. get_patient_record"
   ]
  },
  {
   "cell_type": "code",
   "execution_count": null,
   "id": "5351fe6d",
   "metadata": {},
   "outputs": [],
   "source": [
    "group, pid, record = \"p00\", \"p000188\", \"p000188-2161-12-09-17-50\"\n",
    "rec = module.get_patient_record(group, pid, record, sampfrom = 30000, sampto = 31000, channels = ['II', 'PLETH', 'ABP'])\n",
    "plt.figure(figsize = (20, 4))\n",
    "plt.grid(True)\n",
    "plt.plot(rec.p_signal[:, 0], c = 'g')\n",
    "plt.twinx()\n",
    "plt.plot(rec.p_signal[:, 2], c = 'r')"
   ]
  },
  {
   "cell_type": "markdown",
   "id": "188bdc2e",
   "metadata": {},
   "source": [
    "#### "
   ]
  },
  {
   "cell_type": "markdown",
   "id": "e6f0b3aa",
   "metadata": {},
   "source": [
    "#### 6. get_patient_header"
   ]
  },
  {
   "cell_type": "code",
   "execution_count": null,
   "id": "e14fefc1",
   "metadata": {},
   "outputs": [],
   "source": [
    "header = module.get_patient_header(group, pid, record)\n",
    "header.sig_len, header.fs"
   ]
  },
  {
   "cell_type": "markdown",
   "id": "703d4a8b",
   "metadata": {},
   "source": [
    "#### 7. get_subject_split"
   ]
  },
  {
   "cell_type": "code",
   "execution_count": null,
   "id": "8249c0d8",
   "metadata": {},
   "outputs": [],
   "source": [
    "tr, va, te = module.get_subject_split(df, frac1 = 0.8, frac2 = 0.1, frac3 = 0.1, seed = 42, channels = ['II', 'PLETH', 'ABP'])\n",
    "print(f\"tr len: {len(tr)}, va len: {len(va)}, te len {len(te)}\")"
   ]
  },
  {
   "cell_type": "markdown",
   "id": "25720489",
   "metadata": {},
   "source": [
    "#### 8. get_data_batch"
   ]
  },
  {
   "cell_type": "code",
   "execution_count": null,
   "id": "d4765626",
   "metadata": {},
   "outputs": [],
   "source": [
    "batch = module.get_data_batch(tr, batch_size = 4, signal_len = 250, channels = ['II', 'PLETH', 'ABP'], timeout = 100)\n",
    "print(batch.shape)"
   ]
  }
 ],
 "metadata": {
  "kernelspec": {
   "display_name": "physioprep",
   "language": "python",
   "name": "python3"
  },
  "language_info": {
   "codemirror_mode": {
    "name": "ipython",
    "version": 3
   },
   "file_extension": ".py",
   "mimetype": "text/x-python",
   "name": "python",
   "nbconvert_exporter": "python",
   "pygments_lexer": "ipython3",
   "version": "3.10.18"
  }
 },
 "nbformat": 4,
 "nbformat_minor": 5
}
